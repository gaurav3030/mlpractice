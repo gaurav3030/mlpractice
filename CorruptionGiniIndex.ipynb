{
 "cells": [
  {
   "cell_type": "code",
   "execution_count": 1,
   "metadata": {},
   "outputs": [],
   "source": [
    "import  pandas as pd\n",
    "import numpy as np"
   ]
  },
  {
   "cell_type": "code",
   "execution_count": 2,
   "metadata": {},
   "outputs": [],
   "source": [
    "np.set_printoptions(precision=4,linewidth=100)"
   ]
  },
  {
   "cell_type": "code",
   "execution_count": 3,
   "metadata": {},
   "outputs": [],
   "source": [
    "country_df = pd.read_csv('Data/country.csv')"
   ]
  },
  {
   "cell_type": "code",
   "execution_count": 4,
   "metadata": {},
   "outputs": [
    {
     "name": "stdout",
     "output_type": "stream",
     "text": [
      "<class 'pandas.core.frame.DataFrame'>\n",
      "RangeIndex: 20 entries, 0 to 19\n",
      "Data columns (total 3 columns):\n",
      "Country             20 non-null object\n",
      "Corruption_Index    20 non-null int64\n",
      "Gini_Index          20 non-null float64\n",
      "dtypes: float64(1), int64(1), object(1)\n",
      "memory usage: 608.0+ bytes\n"
     ]
    }
   ],
   "source": [
    "country_df.info()"
   ]
  },
  {
   "cell_type": "code",
   "execution_count": 5,
   "metadata": {},
   "outputs": [],
   "source": [
    "import statsmodels.api as sm"
   ]
  },
  {
   "cell_type": "code",
   "execution_count": 7,
   "metadata": {},
   "outputs": [
    {
     "name": "stderr",
     "output_type": "stream",
     "text": [
      "C:\\Users\\Dell\\Anaconda3\\lib\\site-packages\\numpy\\core\\fromnumeric.py:2389: FutureWarning: Method .ptp is deprecated and will be removed in a future version. Use numpy.ptp instead.\n",
      "  return ptp(axis=axis, out=out, **kwargs)\n"
     ]
    }
   ],
   "source": [
    "X = sm.add_constant(country_df['Gini_Index'])"
   ]
  },
  {
   "cell_type": "code",
   "execution_count": 8,
   "metadata": {},
   "outputs": [
    {
     "name": "stdout",
     "output_type": "stream",
     "text": [
      "    const  Gini_Index\n",
      "0     1.0        53.7\n",
      "1     1.0        30.2\n",
      "2     1.0        46.2\n",
      "3     1.0        32.7\n",
      "4     1.0        36.5\n",
      "5     1.0        27.6\n",
      "6     1.0        23.5\n",
      "7     1.0        31.6\n",
      "8     1.0        33.7\n",
      "9     1.0        30.7\n",
      "10    1.0        25.4\n",
      "11    1.0        27.5\n",
      "12    1.0        30.1\n",
      "13    1.0        40.8\n",
      "14    1.0        40.1\n",
      "15    1.0        34.2\n",
      "16    1.0        34.0\n",
      "17    1.0        42.7\n",
      "18    1.0        34.2\n",
      "19    1.0        39.4\n"
     ]
    }
   ],
   "source": [
    "print(X)"
   ]
  },
  {
   "cell_type": "code",
   "execution_count": 44,
   "metadata": {},
   "outputs": [
    {
     "name": "stdout",
     "output_type": "stream",
     "text": [
      "0     77\n",
      "1     53\n",
      "2     40\n",
      "3     47\n",
      "4     38\n",
      "5     75\n",
      "6     85\n",
      "7     81\n",
      "8     82\n",
      "9     81\n",
      "10    88\n",
      "11    90\n",
      "12    69\n",
      "13    74\n",
      "14    29\n",
      "15    62\n",
      "16    48\n",
      "17    36\n",
      "18    44\n",
      "19    35\n",
      "Name: Corruption_Index, dtype: int64\n"
     ]
    }
   ],
   "source": [
    "Y = country_df['Corruption_Index']\n",
    "print(Y)"
   ]
  },
  {
   "cell_type": "code",
   "execution_count": 11,
   "metadata": {},
   "outputs": [],
   "source": [
    "from sklearn.model_selection import train_test_split"
   ]
  },
  {
   "cell_type": "code",
   "execution_count": 13,
   "metadata": {},
   "outputs": [],
   "source": [
    "train_x ,test_x,train_y,test_y = train_test_split(X,Y,train_size= 0.8,random_state =80)"
   ]
  },
  {
   "cell_type": "code",
   "execution_count": 14,
   "metadata": {},
   "outputs": [],
   "source": [
    "country_lm = sm.OLS(train_y,train_x).fit()"
   ]
  },
  {
   "cell_type": "code",
   "execution_count": 15,
   "metadata": {},
   "outputs": [
    {
     "data": {
      "text/plain": [
       "const         103.268712\n",
       "Gini_Index     -1.232151\n",
       "dtype: float64"
      ]
     },
     "execution_count": 15,
     "metadata": {},
     "output_type": "execute_result"
    }
   ],
   "source": [
    "country_lm.params"
   ]
  },
  {
   "cell_type": "code",
   "execution_count": 17,
   "metadata": {},
   "outputs": [
    {
     "data": {
      "text/plain": [
       "0.19931835726999625"
      ]
     },
     "execution_count": 17,
     "metadata": {},
     "output_type": "execute_result"
    }
   ],
   "source": [
    "country_lm.rsquared"
   ]
  },
  {
   "cell_type": "code",
   "execution_count": 26,
   "metadata": {},
   "outputs": [],
   "source": [
    "r2_df = pd.DataFrame() \n",
    "r2_df['I'] = []\n",
    "r2_df['r2'] = [] \n",
    "for i in range(1,100):\n",
    "    train_x ,test_x,train_y,test_y = train_test_split(X,Y,train_size= 0.8,random_state =i)\n",
    "    country_lm = sm.OLS(train_y,train_x).fit()\n",
    "    r2_df.loc[i]=list([i,country_lm.rsquared])\n",
    "    "
   ]
  },
  {
   "cell_type": "code",
   "execution_count": 27,
   "metadata": {},
   "outputs": [],
   "source": [
    "import matplotlib.pyplot\n",
    "import seaborn as sn"
   ]
  },
  {
   "cell_type": "code",
   "execution_count": 28,
   "metadata": {},
   "outputs": [
    {
     "data": {
      "text/plain": [
       "<matplotlib.axes._subplots.AxesSubplot at 0x20cbd3bfb08>"
      ]
     },
     "execution_count": 28,
     "metadata": {},
     "output_type": "execute_result"
    },
    {
     "data": {
      "image/png": "[encoded data removed]",
      "text/plain": [
       "<Figure size 432x288 with 1 Axes>"
      ]
     },
     "metadata": {
      "needs_background": "light"
     },
     "output_type": "display_data"
    }
   ],
   "source": [
    "sn.barplot(x='I',y='r2',data=r2_df)"
   ]
  },
  {
   "cell_type": "code",
   "execution_count": 29,
   "metadata": {},
   "outputs": [],
   "source": [
    "r2_filter = r2_df[r2_df['r2']>0.5]"
   ]
  },
  {
   "cell_type": "code",
   "execution_count": 30,
   "metadata": {},
   "outputs": [
    {
     "name": "stdout",
     "output_type": "stream",
     "text": [
      "       I        r2\n",
      "2    2.0  0.546013\n",
      "13  13.0  0.523806\n",
      "18  18.0  0.532765\n",
      "23  23.0  0.509714\n",
      "31  31.0  0.649742\n",
      "42  42.0  0.521188\n",
      "57  57.0  0.524498\n",
      "65  65.0  0.508957\n",
      "74  74.0  0.521188\n",
      "96  96.0  0.603709\n",
      "98  98.0  0.523200\n"
     ]
    }
   ],
   "source": [
    "print(r2_filter)"
   ]
  },
  {
   "cell_type": "code",
   "execution_count": 36,
   "metadata": {},
   "outputs": [],
   "source": [
    "train_x ,test_x,train_y,test_y = train_test_split(X,Y,train_size= 0.8,random_state =31)"
   ]
  },
  {
   "cell_type": "code",
   "execution_count": 37,
   "metadata": {},
   "outputs": [],
   "source": [
    "country_lm = sm.OLS(train_y,train_x).fit()"
   ]
  },
  {
   "cell_type": "code",
   "execution_count": 38,
   "metadata": {},
   "outputs": [
    {
     "data": {
      "text/plain": [
       "const         156.93947\n",
       "Gini_Index     -2.90628\n",
       "dtype: float64"
      ]
     },
     "execution_count": 38,
     "metadata": {},
     "output_type": "execute_result"
    }
   ],
   "source": [
    "country_lm.params"
   ]
  },
  {
   "cell_type": "code",
   "execution_count": 40,
   "metadata": {},
   "outputs": [
    {
     "data": {
      "text/html": [
       "<table class=\"simpletable\">\n",
       "<tr>\n",
       "        <td>Model:</td>               <td>OLS</td>         <td>Adj. R-squared:</td>     <td>0.625</td> \n",
       "</tr>\n",
       "<tr>\n",
       "  <td>Dependent Variable:</td> <td>Corruption_Index</td>        <td>AIC:</td>         <td>130.8238</td>\n",
       "</tr>\n",
       "<tr>\n",
       "         <td>Date:</td>        <td>2020-09-06 12:40</td>        <td>BIC:</td>         <td>132.3689</td>\n",
       "</tr>\n",
       "<tr>\n",
       "   <td>No. Observations:</td>         <td>16</td>          <td>Log-Likelihood:</td>    <td>-63.412</td>\n",
       "</tr>\n",
       "<tr>\n",
       "       <td>Df Model:</td>              <td>1</td>           <td>F-statistic:</td>       <td>25.97</td> \n",
       "</tr>\n",
       "<tr>\n",
       "     <td>Df Residuals:</td>           <td>14</td>        <td>Prob (F-statistic):</td> <td>0.000163</td>\n",
       "</tr>\n",
       "<tr>\n",
       "      <td>R-squared:</td>            <td>0.650</td>            <td>Scale:</td>         <td>185.33</td> \n",
       "</tr>\n",
       "</table>\n",
       "<table class=\"simpletable\">\n",
       "<tr>\n",
       "       <td></td>        <th>Coef.</th>  <th>Std.Err.</th>    <th>t</th>     <th>P>|t|</th>  <th>[0.025</th>   <th>0.975]</th> \n",
       "</tr>\n",
       "<tr>\n",
       "  <th>const</th>      <td>156.9395</td>  <td>19.4933</td> <td>8.0510</td>  <td>0.0000</td> <td>115.1305</td> <td>198.7484</td>\n",
       "</tr>\n",
       "<tr>\n",
       "  <th>Gini_Index</th>  <td>-2.9063</td>  <td>0.5703</td>  <td>-5.0961</td> <td>0.0002</td>  <td>-4.1294</td>  <td>-1.6831</td>\n",
       "</tr>\n",
       "</table>\n",
       "<table class=\"simpletable\">\n",
       "<tr>\n",
       "     <td>Omnibus:</td>    <td>3.648</td>  <td>Durbin-Watson:</td>   <td>2.262</td>\n",
       "</tr>\n",
       "<tr>\n",
       "  <td>Prob(Omnibus):</td> <td>0.161</td> <td>Jarque-Bera (JB):</td> <td>1.468</td>\n",
       "</tr>\n",
       "<tr>\n",
       "       <td>Skew:</td>     <td>0.331</td>     <td>Prob(JB):</td>     <td>0.480</td>\n",
       "</tr>\n",
       "<tr>\n",
       "     <td>Kurtosis:</td>   <td>1.672</td>  <td>Condition No.:</td>    <td>196</td> \n",
       "</tr>\n",
       "</table>"
      ],
      "text/plain": [
       "<class 'statsmodels.iolib.summary2.Summary'>\n",
       "\"\"\"\n",
       "                 Results: Ordinary least squares\n",
       "=================================================================\n",
       "Model:              OLS              Adj. R-squared:     0.625   \n",
       "Dependent Variable: Corruption_Index AIC:                130.8238\n",
       "Date:               2020-09-06 12:40 BIC:                132.3689\n",
       "No. Observations:   16               Log-Likelihood:     -63.412 \n",
       "Df Model:           1                F-statistic:        25.97   \n",
       "Df Residuals:       14               Prob (F-statistic): 0.000163\n",
       "R-squared:          0.650            Scale:              185.33  \n",
       "-----------------------------------------------------------------\n",
       "                Coef.   Std.Err.    t    P>|t|   [0.025   0.975] \n",
       "-----------------------------------------------------------------\n",
       "const          156.9395  19.4933  8.0510 0.0000 115.1305 198.7484\n",
       "Gini_Index      -2.9063   0.5703 -5.0961 0.0002  -4.1294  -1.6831\n",
       "-----------------------------------------------------------------\n",
       "Omnibus:              3.648        Durbin-Watson:           2.262\n",
       "Prob(Omnibus):        0.161        Jarque-Bera (JB):        1.468\n",
       "Skew:                 0.331        Prob(JB):                0.480\n",
       "Kurtosis:             1.672        Condition No.:           196  \n",
       "=================================================================\n",
       "\n",
       "\"\"\""
      ]
     },
     "execution_count": 40,
     "metadata": {},
     "output_type": "execute_result"
    }
   ],
   "source": [
    "country_lm.summary2()"
   ]
  },
  {
   "cell_type": "code",
   "execution_count": 41,
   "metadata": {},
   "outputs": [
    {
     "data": {
      "text/html": [
       "<div>\n",
       "<style scoped>\n",
       "    .dataframe tbody tr th:only-of-type {\n",
       "        vertical-align: middle;\n",
       "    }\n",
       "\n",
       "    .dataframe tbody tr th {\n",
       "        vertical-align: top;\n",
       "    }\n",
       "\n",
       "    .dataframe thead th {\n",
       "        text-align: right;\n",
       "    }\n",
       "</style>\n",
       "<table border=\"1\" class=\"dataframe\">\n",
       "  <thead>\n",
       "    <tr style=\"text-align: right;\">\n",
       "      <th></th>\n",
       "      <th>0</th>\n",
       "      <th>1</th>\n",
       "    </tr>\n",
       "  </thead>\n",
       "  <tbody>\n",
       "    <tr>\n",
       "      <td>const</td>\n",
       "      <td>115.130537</td>\n",
       "      <td>198.748403</td>\n",
       "    </tr>\n",
       "    <tr>\n",
       "      <td>Gini_Index</td>\n",
       "      <td>-4.129433</td>\n",
       "      <td>-1.683126</td>\n",
       "    </tr>\n",
       "  </tbody>\n",
       "</table>\n",
       "</div>"
      ],
      "text/plain": [
       "                     0           1\n",
       "const       115.130537  198.748403\n",
       "Gini_Index   -4.129433   -1.683126"
      ]
     },
     "execution_count": 41,
     "metadata": {},
     "output_type": "execute_result"
    }
   ],
   "source": [
    "country_lm.conf_int(0.05)"
   ]
  },
  {
   "cell_type": "code",
   "execution_count": 42,
   "metadata": {},
   "outputs": [],
   "source": [
    "pred_y = country_lm.predict(test_x)"
   ]
  },
  {
   "cell_type": "code",
   "execution_count": 43,
   "metadata": {},
   "outputs": [
    {
     "name": "stdout",
     "output_type": "stream",
     "text": [
      "15    57.544711\n",
      "0      0.872260\n",
      "5     76.726155\n",
      "13    38.363266\n",
      "dtype: float64\n"
     ]
    }
   ],
   "source": [
    "print(pred_y)"
   ]
  },
  {
   "cell_type": "code",
   "execution_count": 45,
   "metadata": {},
   "outputs": [],
   "source": [
    "from sklearn import metrics"
   ]
  },
  {
   "cell_type": "code",
   "execution_count": 48,
   "metadata": {},
   "outputs": [
    {
     "data": {
      "text/plain": [
       "1.2540409258009957"
      ]
     },
     "execution_count": 48,
     "metadata": {},
     "output_type": "execute_result"
    }
   ],
   "source": [
    "np.abs(metrics.r2_score(pred_y,test_y))"
   ]
  },
  {
   "cell_type": "code",
   "execution_count": 49,
   "metadata": {},
   "outputs": [],
   "source": [
    "import matplotlib.pyplot as plt\n",
    "import seaborn as sb\n",
    "%matplotlib inline"
   ]
  },
  {
   "cell_type": "code",
   "execution_count": 50,
   "metadata": {},
   "outputs": [],
   "source": [
    "country_resid =country_lm.resid "
   ]
  },
  {
   "cell_type": "code",
   "execution_count": 52,
   "metadata": {},
   "outputs": [],
   "source": [
    "probplot = sm.ProbPlot(country_resid)"
   ]
  },
  {
   "cell_type": "code",
   "execution_count": 53,
   "metadata": {},
   "outputs": [
    {
     "data": {
      "image/png": "[encoded data removed]",
      "text/plain": [
       "<Figure size 432x288 with 1 Axes>"
      ]
     },
     "execution_count": 53,
     "metadata": {},
     "output_type": "execute_result"
    },
    {
     "data": {
      "text/plain": [
       "<Figure size 576x432 with 0 Axes>"
      ]
     },
     "metadata": {},
     "output_type": "display_data"
    },
    {
     "data": {
      "image/png": "[encoded data removed]",
      "text/plain": [
       "<Figure size 432x288 with 1 Axes>"
      ]
     },
     "metadata": {
      "needs_background": "light"
     },
     "output_type": "display_data"
    }
   ],
   "source": [
    "plt.figure(figsize=(8,6))\n",
    "probplot.ppplot(line='45')"
   ]
  },
  {
   "cell_type": "code",
   "execution_count": null,
   "metadata": {},
   "outputs": [],
   "source": []
  }
 ],
 "metadata": {
  "kernelspec": {
   "display_name": "Python 3",
   "language": "python",
   "name": "python3"
  },
  "language_info": {
   "codemirror_mode": {
    "name": "ipython",
    "version": 3
   },
   "file_extension": ".py",
   "mimetype": "text/x-python",
   "name": "python",
   "nbconvert_exporter": "python",
   "pygments_lexer": "ipython3",
   "version": "3.7.4"
  }
 },
 "nbformat": 4,
 "nbformat_minor": 2
}

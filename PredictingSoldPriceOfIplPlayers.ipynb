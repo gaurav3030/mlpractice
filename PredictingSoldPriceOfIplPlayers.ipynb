{
 "cells": [
  {
   "cell_type": "code",
   "execution_count": 20,
   "metadata": {},
   "outputs": [],
   "source": [
    "import  pandas as pd\n",
    "import numpy as np\n",
    "import statsmodels.api as sm\n",
    "from sklearn.model_selection import train_test_split"
   ]
  },
  {
   "cell_type": "code",
   "execution_count": 2,
   "metadata": {},
   "outputs": [],
   "source": [
    "np.set_printoptions(precision=4,linewidth=100)"
   ]
  },
  {
   "cell_type": "code",
   "execution_count": 3,
   "metadata": {},
   "outputs": [],
   "source": [
    "ipl_auction_df = pd.read_csv('Data/IPL IMB381IPL2013.csv')"
   ]
  },
  {
   "cell_type": "code",
   "execution_count": 4,
   "metadata": {},
   "outputs": [
    {
     "name": "stdout",
     "output_type": "stream",
     "text": [
      "<class 'pandas.core.frame.DataFrame'>\n",
      "RangeIndex: 130 entries, 0 to 129\n",
      "Data columns (total 26 columns):\n",
      "Sl.NO.           130 non-null int64\n",
      "PLAYER NAME      130 non-null object\n",
      "AGE              130 non-null int64\n",
      "COUNTRY          130 non-null object\n",
      "TEAM             130 non-null object\n",
      "PLAYING ROLE     130 non-null object\n",
      "T-RUNS           130 non-null int64\n",
      "T-WKTS           130 non-null int64\n",
      "ODI-RUNS-S       130 non-null int64\n",
      "ODI-SR-B         130 non-null float64\n",
      "ODI-WKTS         130 non-null int64\n",
      "ODI-SR-BL        130 non-null float64\n",
      "CAPTAINCY EXP    130 non-null int64\n",
      "RUNS-S           130 non-null int64\n",
      "HS               130 non-null int64\n",
      "AVE              130 non-null float64\n",
      "SR-B             130 non-null float64\n",
      "SIXERS           130 non-null int64\n",
      "RUNS-C           130 non-null int64\n",
      "WKTS             130 non-null int64\n",
      "AVE-BL           130 non-null float64\n",
      "ECON             130 non-null float64\n",
      "SR-BL            130 non-null float64\n",
      "AUCTION YEAR     130 non-null int64\n",
      "BASE PRICE       130 non-null int64\n",
      "SOLD PRICE       130 non-null int64\n",
      "dtypes: float64(7), int64(15), object(4)\n",
      "memory usage: 26.5+ KB\n"
     ]
    }
   ],
   "source": [
    "ipl_auction_df.info()"
   ]
  },
  {
   "cell_type": "markdown",
   "metadata": {},
   "source": [
    "# Encoding x features"
   ]
  },
  {
   "cell_type": "code",
   "execution_count": 7,
   "metadata": {},
   "outputs": [],
   "source": [
    "X_features = ['AGE', 'COUNTRY', 'PLAYING ROLE',\n",
    "'T-RUNS', 'T-WKTS', 'ODI-RUNS-S', 'ODI-SR-B',\n",
    "'ODI-WKTS', 'ODI-SR-BL', 'CAPTAINCY EXP', 'RUNS-S',\n",
    "'HS', 'AVE', 'SR-B', 'SIXERS', 'RUNS-C', 'WKTS',\n",
    "'AVE-BL', 'ECON', 'SR-BL'] \n",
    "\n"
   ]
  },
  {
   "cell_type": "code",
   "execution_count": 9,
   "metadata": {},
   "outputs": [],
   "source": [
    "categorical_features ={'AGE','COUNTRY','PLAYING ROLE','CAPTAINCY EXP'}"
   ]
  },
  {
   "cell_type": "code",
   "execution_count": 10,
   "metadata": {},
   "outputs": [],
   "source": [
    "ipl_auction_encoded_df = pd.get_dummies(ipl_auction_df[X_features],columns = categorical_features,drop_first=True)"
   ]
  },
  {
   "cell_type": "code",
   "execution_count": 12,
   "metadata": {},
   "outputs": [
    {
     "name": "stdout",
     "output_type": "stream",
     "text": [
      "Index(['T-RUNS', 'T-WKTS', 'ODI-RUNS-S', 'ODI-SR-B', 'ODI-WKTS', 'ODI-SR-BL',\n",
      "       'RUNS-S', 'HS', 'AVE', 'SR-B', 'SIXERS', 'RUNS-C', 'WKTS', 'AVE-BL',\n",
      "       'ECON', 'SR-BL', 'CAPTAINCY EXP_1', 'PLAYING ROLE_Batsman',\n",
      "       'PLAYING ROLE_Bowler', 'PLAYING ROLE_W. Keeper', 'AGE_2', 'AGE_3',\n",
      "       'COUNTRY_BAN', 'COUNTRY_ENG', 'COUNTRY_IND', 'COUNTRY_NZ',\n",
      "       'COUNTRY_PAK', 'COUNTRY_SA', 'COUNTRY_SL', 'COUNTRY_WI', 'COUNTRY_ZIM'],\n",
      "      dtype='object')\n"
     ]
    }
   ],
   "source": [
    "X_features = ipl_auction_encoded_df.columns\n",
    "print(X_features)"
   ]
  },
  {
   "cell_type": "markdown",
   "metadata": {},
   "source": [
    "# lets split the data"
   ]
  },
  {
   "cell_type": "code",
   "execution_count": 16,
   "metadata": {},
   "outputs": [
    {
     "name": "stderr",
     "output_type": "stream",
     "text": [
      "C:\\Users\\Dell\\Anaconda3\\lib\\site-packages\\numpy\\core\\fromnumeric.py:2389: FutureWarning: Method .ptp is deprecated and will be removed in a future version. Use numpy.ptp instead.\n",
      "  return ptp(axis=axis, out=out, **kwargs)\n"
     ]
    }
   ],
   "source": [
    "X = sm.add_constant(ipl_auction_encoded_df)"
   ]
  },
  {
   "cell_type": "code",
   "execution_count": 17,
   "metadata": {},
   "outputs": [],
   "source": [
    "Y = ipl_auction_df['SOLD PRICE']"
   ]
  },
  {
   "cell_type": "code",
   "execution_count": 21,
   "metadata": {},
   "outputs": [],
   "source": [
    "train_X,test_X,train_Y,test_Y = train_test_split(X,Y,train_size =0.8,random_state=50)"
   ]
  },
  {
   "cell_type": "markdown",
   "metadata": {},
   "source": [
    "# fitting the model"
   ]
  },
  {
   "cell_type": "code",
   "execution_count": 23,
   "metadata": {},
   "outputs": [],
   "source": [
    "ipl_model = sm.OLS(train_Y,train_X).fit()"
   ]
  },
  {
   "cell_type": "code",
   "execution_count": 24,
   "metadata": {},
   "outputs": [
    {
     "data": {
      "text/html": [
       "<table class=\"simpletable\">\n",
       "<tr>\n",
       "        <td>Model:</td>               <td>OLS</td>         <td>Adj. R-squared:</td>      <td>0.447</td>  \n",
       "</tr>\n",
       "<tr>\n",
       "  <td>Dependent Variable:</td>    <td>SOLD PRICE</td>           <td>AIC:</td>          <td>2958.9833</td>\n",
       "</tr>\n",
       "<tr>\n",
       "         <td>Date:</td>        <td>2020-09-03 11:50</td>        <td>BIC:</td>          <td>3043.6038</td>\n",
       "</tr>\n",
       "<tr>\n",
       "   <td>No. Observations:</td>         <td>104</td>         <td>Log-Likelihood:</td>     <td>-1447.5</td> \n",
       "</tr>\n",
       "<tr>\n",
       "       <td>Df Model:</td>             <td>31</td>           <td>F-statistic:</td>        <td>3.682</td>  \n",
       "</tr>\n",
       "<tr>\n",
       "     <td>Df Residuals:</td>           <td>72</td>        <td>Prob (F-statistic):</td>  <td>2.68e-06</td> \n",
       "</tr>\n",
       "<tr>\n",
       "      <td>R-squared:</td>            <td>0.613</td>            <td>Scale:</td>        <td>1.0385e+11</td>\n",
       "</tr>\n",
       "</table>\n",
       "<table class=\"simpletable\">\n",
       "<tr>\n",
       "             <td></td>                <th>Coef.</th>     <th>Std.Err.</th>      <th>t</th>     <th>P>|t|</th>    <th>[0.025</th>       <th>0.975]</th>   \n",
       "</tr>\n",
       "<tr>\n",
       "  <th>const</th>                   <td>208160.9909</td> <td>226783.0636</td> <td>0.9179</td>  <td>0.3617</td> <td>-243922.7839</td>  <td>660244.7656</td>\n",
       "</tr>\n",
       "<tr>\n",
       "  <th>T-RUNS</th>                   <td>-45.4548</td>     <td>28.6831</td>   <td>-1.5847</td> <td>0.1174</td>   <td>-102.6335</td>     <td>11.7238</td>  \n",
       "</tr>\n",
       "<tr>\n",
       "  <th>T-WKTS</th>                    <td>72.2181</td>    <td>577.4629</td>   <td>0.1251</td>  <td>0.9008</td>  <td>-1078.9332</td>    <td>1223.3694</td> \n",
       "</tr>\n",
       "<tr>\n",
       "  <th>ODI-RUNS-S</th>                <td>63.2699</td>     <td>28.2665</td>   <td>2.2383</td>  <td>0.0283</td>    <td>6.9216</td>      <td>119.6182</td>  \n",
       "</tr>\n",
       "<tr>\n",
       "  <th>ODI-SR-B</th>                 <td>-373.3406</td>   <td>1585.2318</td>  <td>-0.2355</td> <td>0.8145</td>  <td>-3533.4424</td>    <td>2786.7613</td> \n",
       "</tr>\n",
       "<tr>\n",
       "  <th>ODI-WKTS</th>                 <td>454.2875</td>    <td>820.3922</td>   <td>0.5537</td>  <td>0.5815</td>  <td>-1181.1345</td>    <td>2089.7096</td> \n",
       "</tr>\n",
       "<tr>\n",
       "  <th>ODI-SR-BL</th>               <td>-2188.6673</td>   <td>1755.6726</td>  <td>-1.2466</td> <td>0.2166</td>  <td>-5688.5367</td>    <td>1311.2021</td> \n",
       "</tr>\n",
       "<tr>\n",
       "  <th>RUNS-S</th>                    <td>79.7563</td>    <td>154.3170</td>   <td>0.5168</td>  <td>0.6069</td>   <td>-227.8690</td>    <td>387.3816</td>  \n",
       "</tr>\n",
       "<tr>\n",
       "  <th>HS</th>                      <td>-1415.2475</td>   <td>2541.0315</td>  <td>-0.5570</td> <td>0.5793</td>  <td>-6480.7013</td>    <td>3650.2062</td> \n",
       "</tr>\n",
       "<tr>\n",
       "  <th>AVE</th>                      <td>8201.2890</td>   <td>7592.7226</td>  <td>1.0802</td>  <td>0.2837</td>  <td>-6934.5268</td>   <td>23337.1048</td> \n",
       "</tr>\n",
       "<tr>\n",
       "  <th>SR-B</th>                    <td>-1162.1250</td>   <td>1316.0923</td>  <td>-0.8830</td> <td>0.3802</td>  <td>-3785.7070</td>    <td>1461.4570</td> \n",
       "</tr>\n",
       "<tr>\n",
       "  <th>SIXERS</th>                   <td>2169.7328</td>   <td>3176.4947</td>  <td>0.6831</td>  <td>0.4968</td>  <td>-4162.4936</td>    <td>8501.9593</td> \n",
       "</tr>\n",
       "<tr>\n",
       "  <th>RUNS-C</th>                    <td>82.6112</td>    <td>287.4622</td>   <td>0.2874</td>  <td>0.7746</td>   <td>-490.4344</td>    <td>655.6567</td>  \n",
       "</tr>\n",
       "<tr>\n",
       "  <th>WKTS</th>                     <td>2470.7284</td>   <td>7147.7319</td>  <td>0.3457</td>  <td>0.7306</td>  <td>-11778.0147</td>  <td>16719.4715</td> \n",
       "</tr>\n",
       "<tr>\n",
       "  <th>AVE-BL</th>                   <td>3186.9655</td>  <td>11214.0173</td>  <td>0.2842</td>  <td>0.7771</td>  <td>-19167.7694</td>  <td>25541.7004</td> \n",
       "</tr>\n",
       "<tr>\n",
       "  <th>ECON</th>                     <td>3628.8034</td>  <td>12890.4119</td>  <td>0.2815</td>  <td>0.7791</td>  <td>-22067.7632</td>  <td>29325.3700</td> \n",
       "</tr>\n",
       "<tr>\n",
       "  <th>SR-BL</th>                    <td>2277.4795</td>  <td>16832.6149</td>  <td>0.1353</td>  <td>0.8928</td>  <td>-31277.7250</td>  <td>35832.6840</td> \n",
       "</tr>\n",
       "<tr>\n",
       "  <th>CAPTAINCY EXP_1</th>         <td>185040.1467</td> <td>121729.3142</td> <td>1.5201</td>  <td>0.1329</td>  <td>-57622.8061</td>  <td>427703.0994</td>\n",
       "</tr>\n",
       "<tr>\n",
       "  <th>PLAYING ROLE_Batsman</th>    <td>212628.8988</td> <td>147579.5474</td> <td>1.4408</td>  <td>0.1540</td>  <td>-81565.5519</td>  <td>506823.3496</td>\n",
       "</tr>\n",
       "<tr>\n",
       "  <th>PLAYING ROLE_Bowler</th>     <td>-25923.3259</td> <td>121692.4342</td> <td>-0.2130</td> <td>0.8319</td> <td>-268512.7598</td>  <td>216666.1080</td>\n",
       "</tr>\n",
       "<tr>\n",
       "  <th>PLAYING ROLE_W. Keeper</th>  <td>108430.9416</td> <td>224924.9226</td> <td>0.4821</td>  <td>0.6312</td> <td>-339948.6968</td>  <td>556810.5799</td>\n",
       "</tr>\n",
       "<tr>\n",
       "  <th>AGE_2</th>                  <td>-185148.2832</td> <td>119372.8704</td> <td>-1.5510</td> <td>0.1253</td> <td>-423113.7511</td>  <td>52817.1847</td> \n",
       "</tr>\n",
       "<tr>\n",
       "  <th>AGE_3</th>                  <td>-144211.0292</td> <td>158809.2171</td> <td>-0.9081</td> <td>0.3669</td> <td>-460791.4175</td>  <td>172369.3591</td>\n",
       "</tr>\n",
       "<tr>\n",
       "  <th>COUNTRY_BAN</th>             <td>-10332.7069</td> <td>429228.2832</td> <td>-0.0241</td> <td>0.9809</td> <td>-865983.6510</td>  <td>845318.2373</td>\n",
       "</tr>\n",
       "<tr>\n",
       "  <th>COUNTRY_ENG</th>             <td>667688.4997</td> <td>235980.7275</td> <td>2.8294</td>  <td>0.0060</td>  <td>197269.5170</td> <td>1138107.4824</td>\n",
       "</tr>\n",
       "<tr>\n",
       "  <th>COUNTRY_IND</th>             <td>213176.5488</td> <td>121241.6752</td> <td>1.7583</td>  <td>0.0829</td>  <td>-28514.3134</td>  <td>454867.4109</td>\n",
       "</tr>\n",
       "<tr>\n",
       "  <th>COUNTRY_NZ</th>              <td>53451.8208</td>  <td>178464.6945</td> <td>0.2995</td>  <td>0.7654</td> <td>-302311.0455</td>  <td>409214.6871</td>\n",
       "</tr>\n",
       "<tr>\n",
       "  <th>COUNTRY_PAK</th>             <td>121578.0917</td> <td>179698.4195</td> <td>0.6766</td>  <td>0.5008</td> <td>-236644.1604</td>  <td>479800.3439</td>\n",
       "</tr>\n",
       "<tr>\n",
       "  <th>COUNTRY_SA</th>              <td>-38362.9059</td> <td>129603.1455</td> <td>-0.2960</td> <td>0.7681</td> <td>-296722.0546</td>  <td>219996.2428</td>\n",
       "</tr>\n",
       "<tr>\n",
       "  <th>COUNTRY_SL</th>              <td>26678.0160</td>  <td>170466.9424</td> <td>0.1565</td>  <td>0.8761</td> <td>-313141.6229</td>  <td>366497.6549</td>\n",
       "</tr>\n",
       "<tr>\n",
       "  <th>COUNTRY_WI</th>             <td>-160558.6187</td> <td>174534.8796</td> <td>-0.9199</td> <td>0.3607</td> <td>-508487.5423</td>  <td>187370.3049</td>\n",
       "</tr>\n",
       "<tr>\n",
       "  <th>COUNTRY_ZIM</th>            <td>-147114.5932</td> <td>383246.1496</td> <td>-0.3839</td> <td>0.7022</td> <td>-911101.8294</td>  <td>616872.6429</td>\n",
       "</tr>\n",
       "</table>\n",
       "<table class=\"simpletable\">\n",
       "<tr>\n",
       "     <td>Omnibus:</td>    <td>4.639</td>  <td>Durbin-Watson:</td>   <td>1.668</td>\n",
       "</tr>\n",
       "<tr>\n",
       "  <td>Prob(Omnibus):</td> <td>0.098</td> <td>Jarque-Bera (JB):</td> <td>3.977</td>\n",
       "</tr>\n",
       "<tr>\n",
       "       <td>Skew:</td>     <td>0.431</td>     <td>Prob(JB):</td>     <td>0.137</td>\n",
       "</tr>\n",
       "<tr>\n",
       "     <td>Kurtosis:</td>   <td>3.418</td>  <td>Condition No.:</td>   <td>89367</td>\n",
       "</tr>\n",
       "</table>"
      ],
      "text/plain": [
       "<class 'statsmodels.iolib.summary2.Summary'>\n",
       "\"\"\"\n",
       "                            Results: Ordinary least squares\n",
       "========================================================================================\n",
       "Model:                     OLS                     Adj. R-squared:            0.447     \n",
       "Dependent Variable:        SOLD PRICE              AIC:                       2958.9833 \n",
       "Date:                      2020-09-03 11:50        BIC:                       3043.6038 \n",
       "No. Observations:          104                     Log-Likelihood:            -1447.5   \n",
       "Df Model:                  31                      F-statistic:               3.682     \n",
       "Df Residuals:              72                      Prob (F-statistic):        2.68e-06  \n",
       "R-squared:                 0.613                   Scale:                     1.0385e+11\n",
       "----------------------------------------------------------------------------------------\n",
       "                          Coef.       Std.Err.     t    P>|t|     [0.025       0.975]   \n",
       "----------------------------------------------------------------------------------------\n",
       "const                   208160.9909 226783.0636  0.9179 0.3617 -243922.7839  660244.7656\n",
       "T-RUNS                     -45.4548     28.6831 -1.5847 0.1174    -102.6335      11.7238\n",
       "T-WKTS                      72.2181    577.4629  0.1251 0.9008   -1078.9332    1223.3694\n",
       "ODI-RUNS-S                  63.2699     28.2665  2.2383 0.0283       6.9216     119.6182\n",
       "ODI-SR-B                  -373.3406   1585.2318 -0.2355 0.8145   -3533.4424    2786.7613\n",
       "ODI-WKTS                   454.2875    820.3922  0.5537 0.5815   -1181.1345    2089.7096\n",
       "ODI-SR-BL                -2188.6673   1755.6726 -1.2466 0.2166   -5688.5367    1311.2021\n",
       "RUNS-S                      79.7563    154.3170  0.5168 0.6069    -227.8690     387.3816\n",
       "HS                       -1415.2475   2541.0315 -0.5570 0.5793   -6480.7013    3650.2062\n",
       "AVE                       8201.2890   7592.7226  1.0802 0.2837   -6934.5268   23337.1048\n",
       "SR-B                     -1162.1250   1316.0923 -0.8830 0.3802   -3785.7070    1461.4570\n",
       "SIXERS                    2169.7328   3176.4947  0.6831 0.4968   -4162.4936    8501.9593\n",
       "RUNS-C                      82.6112    287.4622  0.2874 0.7746    -490.4344     655.6567\n",
       "WKTS                      2470.7284   7147.7319  0.3457 0.7306  -11778.0147   16719.4715\n",
       "AVE-BL                    3186.9655  11214.0173  0.2842 0.7771  -19167.7694   25541.7004\n",
       "ECON                      3628.8034  12890.4119  0.2815 0.7791  -22067.7632   29325.3700\n",
       "SR-BL                     2277.4795  16832.6149  0.1353 0.8928  -31277.7250   35832.6840\n",
       "CAPTAINCY EXP_1         185040.1467 121729.3142  1.5201 0.1329  -57622.8061  427703.0994\n",
       "PLAYING ROLE_Batsman    212628.8988 147579.5474  1.4408 0.1540  -81565.5519  506823.3496\n",
       "PLAYING ROLE_Bowler     -25923.3259 121692.4342 -0.2130 0.8319 -268512.7598  216666.1080\n",
       "PLAYING ROLE_W. Keeper  108430.9416 224924.9226  0.4821 0.6312 -339948.6968  556810.5799\n",
       "AGE_2                  -185148.2832 119372.8704 -1.5510 0.1253 -423113.7511   52817.1847\n",
       "AGE_3                  -144211.0292 158809.2171 -0.9081 0.3669 -460791.4175  172369.3591\n",
       "COUNTRY_BAN             -10332.7069 429228.2832 -0.0241 0.9809 -865983.6510  845318.2373\n",
       "COUNTRY_ENG             667688.4997 235980.7275  2.8294 0.0060  197269.5170 1138107.4824\n",
       "COUNTRY_IND             213176.5488 121241.6752  1.7583 0.0829  -28514.3134  454867.4109\n",
       "COUNTRY_NZ               53451.8208 178464.6945  0.2995 0.7654 -302311.0455  409214.6871\n",
       "COUNTRY_PAK             121578.0917 179698.4195  0.6766 0.5008 -236644.1604  479800.3439\n",
       "COUNTRY_SA              -38362.9059 129603.1455 -0.2960 0.7681 -296722.0546  219996.2428\n",
       "COUNTRY_SL               26678.0160 170466.9424  0.1565 0.8761 -313141.6229  366497.6549\n",
       "COUNTRY_WI             -160558.6187 174534.8796 -0.9199 0.3607 -508487.5423  187370.3049\n",
       "COUNTRY_ZIM            -147114.5932 383246.1496 -0.3839 0.7022 -911101.8294  616872.6429\n",
       "----------------------------------------------------------------------------------------\n",
       "Omnibus:                       4.639               Durbin-Watson:                  1.668\n",
       "Prob(Omnibus):                 0.098               Jarque-Bera (JB):               3.977\n",
       "Skew:                          0.431               Prob(JB):                       0.137\n",
       "Kurtosis:                      3.418               Condition No.:                  89367\n",
       "========================================================================================\n",
       "* The condition number is large (9e+04). This might indicate             strong\n",
       "multicollinearity or other numerical problems.\n",
       "\"\"\""
      ]
     },
     "execution_count": 24,
     "metadata": {},
     "output_type": "execute_result"
    }
   ],
   "source": [
    "ipl_model.summary2()"
   ]
  },
  {
   "cell_type": "code",
   "execution_count": null,
   "metadata": {},
   "outputs": [],
   "source": []
  }
 ],
 "metadata": {
  "kernelspec": {
   "display_name": "Python 3",
   "language": "python",
   "name": "python3"
  },
  "language_info": {
   "codemirror_mode": {
    "name": "ipython",
    "version": 3
   },
   "file_extension": ".py",
   "mimetype": "text/x-python",
   "name": "python",
   "nbconvert_exporter": "python",
   "pygments_lexer": "ipython3",
   "version": "3.7.4"
  }
 },
 "nbformat": 4,
 "nbformat_minor": 2
}
